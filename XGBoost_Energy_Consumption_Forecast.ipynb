{
 "cells": [
  {
   "cell_type": "markdown",
   "id": "3da2ea66-a60a-4331-b2d3-4c557579ace7",
   "metadata": {},
   "source": [
    "# Energy Consumption Forecast using XGBoost Algorithm"
   ]
  },
  {
   "cell_type": "markdown",
   "id": "4ae24117-dc72-4b3b-811a-6c3b9bfce792",
   "metadata": {},
   "source": [
    "### About the data \n",
    "**This dataset is from Kaggle**\n",
    "\n",
    "**PJM Hourly Energy Consumption Data**\n",
    "\n",
    "PJM Interconnection LLC (PJM) is a regional transmission organization (RTO) in the United States. It is part of the Eastern Interconnection grid operating an electric transmission system serving all or parts of Delaware, Illinois, Indiana, Kentucky, Maryland, Michigan, New Jersey, North Carolina, Ohio, Pennsylvania, Tennessee, Virginia, West Virginia, and the District of Columbia.\n",
    "\n",
    "The hourly power consumption data comes from PJM's website and are in megawatts (MW).\n",
    "\n",
    "The regions have changed over the years so data may only appear for certain dates per region."
   ]
  },
  {
   "cell_type": "code",
   "execution_count": 70,
   "id": "3987fa51-1594-4967-a7d5-da9f0ae75b92",
   "metadata": {},
   "outputs": [],
   "source": [
    "import pandas as pd\n",
    "import numpy as np\n",
    "import matplotlib.pyplot as plt\n",
    "import seaborn as sns\n",
    "import xgboost as xgb"
   ]
  },
  {
   "cell_type": "code",
   "execution_count": 79,
   "id": "def8fe54-54fa-4dc8-8ac9-56a453d1685b",
   "metadata": {},
   "outputs": [
    {
     "data": {
      "text/html": [
       "<div>\n",
       "<style scoped>\n",
       "    .dataframe tbody tr th:only-of-type {\n",
       "        vertical-align: middle;\n",
       "    }\n",
       "\n",
       "    .dataframe tbody tr th {\n",
       "        vertical-align: top;\n",
       "    }\n",
       "\n",
       "    .dataframe thead th {\n",
       "        text-align: right;\n",
       "    }\n",
       "</style>\n",
       "<table border=\"1\" class=\"dataframe\">\n",
       "  <thead>\n",
       "    <tr style=\"text-align: right;\">\n",
       "      <th></th>\n",
       "      <th>Datetime</th>\n",
       "      <th>PJME_MW</th>\n",
       "    </tr>\n",
       "  </thead>\n",
       "  <tbody>\n",
       "    <tr>\n",
       "      <th>0</th>\n",
       "      <td>2002-12-31 01:00:00</td>\n",
       "      <td>26498.0</td>\n",
       "    </tr>\n",
       "    <tr>\n",
       "      <th>1</th>\n",
       "      <td>2002-12-31 02:00:00</td>\n",
       "      <td>25147.0</td>\n",
       "    </tr>\n",
       "    <tr>\n",
       "      <th>2</th>\n",
       "      <td>2002-12-31 03:00:00</td>\n",
       "      <td>24574.0</td>\n",
       "    </tr>\n",
       "    <tr>\n",
       "      <th>3</th>\n",
       "      <td>2002-12-31 04:00:00</td>\n",
       "      <td>24393.0</td>\n",
       "    </tr>\n",
       "    <tr>\n",
       "      <th>4</th>\n",
       "      <td>2002-12-31 05:00:00</td>\n",
       "      <td>24860.0</td>\n",
       "    </tr>\n",
       "    <tr>\n",
       "      <th>...</th>\n",
       "      <td>...</td>\n",
       "      <td>...</td>\n",
       "    </tr>\n",
       "    <tr>\n",
       "      <th>145361</th>\n",
       "      <td>2018-01-01 20:00:00</td>\n",
       "      <td>44284.0</td>\n",
       "    </tr>\n",
       "    <tr>\n",
       "      <th>145362</th>\n",
       "      <td>2018-01-01 21:00:00</td>\n",
       "      <td>43751.0</td>\n",
       "    </tr>\n",
       "    <tr>\n",
       "      <th>145363</th>\n",
       "      <td>2018-01-01 22:00:00</td>\n",
       "      <td>42402.0</td>\n",
       "    </tr>\n",
       "    <tr>\n",
       "      <th>145364</th>\n",
       "      <td>2018-01-01 23:00:00</td>\n",
       "      <td>40164.0</td>\n",
       "    </tr>\n",
       "    <tr>\n",
       "      <th>145365</th>\n",
       "      <td>2018-01-02 00:00:00</td>\n",
       "      <td>38608.0</td>\n",
       "    </tr>\n",
       "  </tbody>\n",
       "</table>\n",
       "<p>145366 rows × 2 columns</p>\n",
       "</div>"
      ],
      "text/plain": [
       "                   Datetime  PJME_MW\n",
       "0       2002-12-31 01:00:00  26498.0\n",
       "1       2002-12-31 02:00:00  25147.0\n",
       "2       2002-12-31 03:00:00  24574.0\n",
       "3       2002-12-31 04:00:00  24393.0\n",
       "4       2002-12-31 05:00:00  24860.0\n",
       "...                     ...      ...\n",
       "145361  2018-01-01 20:00:00  44284.0\n",
       "145362  2018-01-01 21:00:00  43751.0\n",
       "145363  2018-01-01 22:00:00  42402.0\n",
       "145364  2018-01-01 23:00:00  40164.0\n",
       "145365  2018-01-02 00:00:00  38608.0\n",
       "\n",
       "[145366 rows x 2 columns]"
      ]
     },
     "execution_count": 79,
     "metadata": {},
     "output_type": "execute_result"
    }
   ],
   "source": [
    "df = pd.read_csv(\"PJME_hourly.csv\")\n",
    "df"
   ]
  },
  {
   "cell_type": "code",
   "execution_count": 80,
   "id": "e4ebc16d-2b36-4ff0-85b2-cfd383ed4b20",
   "metadata": {},
   "outputs": [
    {
     "data": {
      "text/plain": [
       "Datetime     object\n",
       "PJME_MW     float64\n",
       "dtype: object"
      ]
     },
     "execution_count": 80,
     "metadata": {},
     "output_type": "execute_result"
    }
   ],
   "source": [
    "# Verifying the data type\n",
    "df.dtypes"
   ]
  },
  {
   "cell_type": "markdown",
   "id": "0de9f642-5748-4c5e-a1ef-373b6a9dca21",
   "metadata": {},
   "source": [
    "**Datetime columns is object type, changing it to datetime type and setting the Datetime column as the index**"
   ]
  },
  {
   "cell_type": "code",
   "execution_count": 81,
   "id": "e5f02688-983a-4611-b833-f734beab84f6",
   "metadata": {},
   "outputs": [],
   "source": [
    "#df[\"Datetime\"] = pd.to_datetime(df[\"Datetime\"])\n",
    "#df.dtypes"
   ]
  },
  {
   "cell_type": "code",
   "execution_count": 82,
   "id": "17fdf2fa-6cac-484e-9841-7e7e9cb7cebf",
   "metadata": {},
   "outputs": [
    {
     "data": {
      "text/html": [
       "<div>\n",
       "<style scoped>\n",
       "    .dataframe tbody tr th:only-of-type {\n",
       "        vertical-align: middle;\n",
       "    }\n",
       "\n",
       "    .dataframe tbody tr th {\n",
       "        vertical-align: top;\n",
       "    }\n",
       "\n",
       "    .dataframe thead th {\n",
       "        text-align: right;\n",
       "    }\n",
       "</style>\n",
       "<table border=\"1\" class=\"dataframe\">\n",
       "  <thead>\n",
       "    <tr style=\"text-align: right;\">\n",
       "      <th></th>\n",
       "      <th>PJME_MW</th>\n",
       "    </tr>\n",
       "    <tr>\n",
       "      <th>Datetime</th>\n",
       "      <th></th>\n",
       "    </tr>\n",
       "  </thead>\n",
       "  <tbody>\n",
       "    <tr>\n",
       "      <th>2002-12-31 01:00:00</th>\n",
       "      <td>26498.0</td>\n",
       "    </tr>\n",
       "    <tr>\n",
       "      <th>2002-12-31 02:00:00</th>\n",
       "      <td>25147.0</td>\n",
       "    </tr>\n",
       "    <tr>\n",
       "      <th>2002-12-31 03:00:00</th>\n",
       "      <td>24574.0</td>\n",
       "    </tr>\n",
       "    <tr>\n",
       "      <th>2002-12-31 04:00:00</th>\n",
       "      <td>24393.0</td>\n",
       "    </tr>\n",
       "    <tr>\n",
       "      <th>2002-12-31 05:00:00</th>\n",
       "      <td>24860.0</td>\n",
       "    </tr>\n",
       "  </tbody>\n",
       "</table>\n",
       "</div>"
      ],
      "text/plain": [
       "                     PJME_MW\n",
       "Datetime                    \n",
       "2002-12-31 01:00:00  26498.0\n",
       "2002-12-31 02:00:00  25147.0\n",
       "2002-12-31 03:00:00  24574.0\n",
       "2002-12-31 04:00:00  24393.0\n",
       "2002-12-31 05:00:00  24860.0"
      ]
     },
     "execution_count": 82,
     "metadata": {},
     "output_type": "execute_result"
    }
   ],
   "source": [
    "df = df.set_index(\"Datetime\")\n",
    "df.index = pd.to_datetime(df.index)\n",
    "df.head()"
   ]
  },
  {
   "cell_type": "markdown",
   "id": "bba83529-250a-4a59-88ad-787d715cb1bc",
   "metadata": {},
   "source": [
    "**Visualizing the data**"
   ]
  },
  {
   "cell_type": "code",
   "execution_count": 83,
   "id": "1df91b18-d908-4070-927d-4852ed21f610",
   "metadata": {},
   "outputs": [
    {
     "data": {
      "image/png": "[encoded data removed]",
      "text/plain": [
       "<Figure size 1500x500 with 1 Axes>"
      ]
     },
     "metadata": {},
     "output_type": "display_data"
    }
   ],
   "source": [
    "df.plot(figsize=(15,5))\n",
    "plt.title(\"Energy Usage in MW\", fontsize=15)\n",
    "plt.show()"
   ]
  },
  {
   "cell_type": "markdown",
   "id": "6eb1aefb-2dc9-45e0-8806-29d90467b601",
   "metadata": {},
   "source": [
    "## Feature engineering\n",
    "\n",
    "**Crearing new inputs from raw data**"
   ]
  },
  {
   "cell_type": "code",
   "execution_count": 84,
   "id": "15d0fd77-c5bd-4a05-8180-4dfd182f6507",
   "metadata": {},
   "outputs": [
    {
     "data": {
      "text/html": [
       "<div>\n",
       "<style scoped>\n",
       "    .dataframe tbody tr th:only-of-type {\n",
       "        vertical-align: middle;\n",
       "    }\n",
       "\n",
       "    .dataframe tbody tr th {\n",
       "        vertical-align: top;\n",
       "    }\n",
       "\n",
       "    .dataframe thead th {\n",
       "        text-align: right;\n",
       "    }\n",
       "</style>\n",
       "<table border=\"1\" class=\"dataframe\">\n",
       "  <thead>\n",
       "    <tr style=\"text-align: right;\">\n",
       "      <th></th>\n",
       "      <th>PJME_MW</th>\n",
       "      <th>month</th>\n",
       "      <th>day</th>\n",
       "      <th>hour</th>\n",
       "      <th>day_of_week</th>\n",
       "    </tr>\n",
       "    <tr>\n",
       "      <th>Datetime</th>\n",
       "      <th></th>\n",
       "      <th></th>\n",
       "      <th></th>\n",
       "      <th></th>\n",
       "      <th></th>\n",
       "    </tr>\n",
       "  </thead>\n",
       "  <tbody>\n",
       "    <tr>\n",
       "      <th>2002-12-31 01:00:00</th>\n",
       "      <td>26498.0</td>\n",
       "      <td>12</td>\n",
       "      <td>31</td>\n",
       "      <td>1</td>\n",
       "      <td>1</td>\n",
       "    </tr>\n",
       "    <tr>\n",
       "      <th>2002-12-31 02:00:00</th>\n",
       "      <td>25147.0</td>\n",
       "      <td>12</td>\n",
       "      <td>31</td>\n",
       "      <td>2</td>\n",
       "      <td>1</td>\n",
       "    </tr>\n",
       "    <tr>\n",
       "      <th>2002-12-31 03:00:00</th>\n",
       "      <td>24574.0</td>\n",
       "      <td>12</td>\n",
       "      <td>31</td>\n",
       "      <td>3</td>\n",
       "      <td>1</td>\n",
       "    </tr>\n",
       "    <tr>\n",
       "      <th>2002-12-31 04:00:00</th>\n",
       "      <td>24393.0</td>\n",
       "      <td>12</td>\n",
       "      <td>31</td>\n",
       "      <td>4</td>\n",
       "      <td>1</td>\n",
       "    </tr>\n",
       "    <tr>\n",
       "      <th>2002-12-31 05:00:00</th>\n",
       "      <td>24860.0</td>\n",
       "      <td>12</td>\n",
       "      <td>31</td>\n",
       "      <td>5</td>\n",
       "      <td>1</td>\n",
       "    </tr>\n",
       "  </tbody>\n",
       "</table>\n",
       "</div>"
      ],
      "text/plain": [
       "                     PJME_MW  month  day  hour  day_of_week\n",
       "Datetime                                                   \n",
       "2002-12-31 01:00:00  26498.0     12   31     1            1\n",
       "2002-12-31 02:00:00  25147.0     12   31     2            1\n",
       "2002-12-31 03:00:00  24574.0     12   31     3            1\n",
       "2002-12-31 04:00:00  24393.0     12   31     4            1\n",
       "2002-12-31 05:00:00  24860.0     12   31     5            1"
      ]
     },
     "execution_count": 84,
     "metadata": {},
     "output_type": "execute_result"
    }
   ],
   "source": [
    "df[\"month\"] = df.index.month\n",
    "df[\"day\"] = df.index.day\n",
    "df[\"hour\"] = df.index.hour\n",
    "df[\"day_of_week\"] = df.index.dayofweek\n",
    "df.head()"
   ]
  },
  {
   "cell_type": "code",
   "execution_count": null,
   "id": "85779c62-dd82-46bb-b913-4da99f659ee1",
   "metadata": {},
   "outputs": [],
   "source": []
  }
 ],
 "metadata": {
  "kernelspec": {
   "display_name": "Python 3 (ipykernel)",
   "language": "python",
   "name": "python3"
  },
  "language_info": {
   "codemirror_mode": {
    "name": "ipython",
    "version": 3
   },
   "file_extension": ".py",
   "mimetype": "text/x-python",
   "name": "python",
   "nbconvert_exporter": "python",
   "pygments_lexer": "ipython3",
   "version": "3.9.20"
  }
 },
 "nbformat": 4,
 "nbformat_minor": 5
}

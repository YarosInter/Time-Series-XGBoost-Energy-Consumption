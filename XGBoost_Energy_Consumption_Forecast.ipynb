{
 "cells": [
  {
   "cell_type": "markdown",
   "id": "3da2ea66-a60a-4331-b2d3-4c557579ace7",
   "metadata": {},
   "source": [
    "# Energy Consumption Forecast using XGBoost Algorithm"
   ]
  },
  {
   "cell_type": "markdown",
   "id": "4ae24117-dc72-4b3b-811a-6c3b9bfce792",
   "metadata": {},
   "source": [
    "### About the data \n",
    "**This dataset is from Kaggle**\n",
    "\n",
    "**PJM Hourly Energy Consumption Data**\n",
    "\n",
    "PJM Interconnection LLC (PJM) is a regional transmission organization (RTO) in the United States. It is part of the Eastern Interconnection grid operating an electric transmission system serving all or parts of Delaware, Illinois, Indiana, Kentucky, Maryland, Michigan, New Jersey, North Carolina, Ohio, Pennsylvania, Tennessee, Virginia, West Virginia, and the District of Columbia.\n",
    "\n",
    "The hourly power consumption data comes from PJM's website and are in megawatts (MW).\n",
    "\n",
    "The regions have changed over the years so data may only appear for certain dates per region."
   ]
  },
  {
   "cell_type": "code",
   "execution_count": 260,
   "id": "3987fa51-1594-4967-a7d5-da9f0ae75b92",
   "metadata": {},
   "outputs": [],
   "source": [
    "import pandas as pd\n",
    "import numpy as np\n",
    "import matplotlib.pyplot as plt\n",
    "import seaborn as sns\n",
    "import xgboost as xgb"
   ]
  },
  {
   "cell_type": "code",
   "execution_count": 261,
   "id": "def8fe54-54fa-4dc8-8ac9-56a453d1685b",
   "metadata": {},
   "outputs": [
    {
     "data": {
      "text/html": [
       "<div>\n",
       "<style scoped>\n",
       "    .dataframe tbody tr th:only-of-type {\n",
       "        vertical-align: middle;\n",
       "    }\n",
       "\n",
       "    .dataframe tbody tr th {\n",
       "        vertical-align: top;\n",
       "    }\n",
       "\n",
       "    .dataframe thead th {\n",
       "        text-align: right;\n",
       "    }\n",
       "</style>\n",
       "<table border=\"1\" class=\"dataframe\">\n",
       "  <thead>\n",
       "    <tr style=\"text-align: right;\">\n",
       "      <th></th>\n",
       "      <th>Datetime</th>\n",
       "      <th>PJME_MW</th>\n",
       "    </tr>\n",
       "  </thead>\n",
       "  <tbody>\n",
       "    <tr>\n",
       "      <th>0</th>\n",
       "      <td>2002-12-31 01:00:00</td>\n",
       "      <td>26498.0</td>\n",
       "    </tr>\n",
       "    <tr>\n",
       "      <th>1</th>\n",
       "      <td>2002-12-31 02:00:00</td>\n",
       "      <td>25147.0</td>\n",
       "    </tr>\n",
       "    <tr>\n",
       "      <th>2</th>\n",
       "      <td>2002-12-31 03:00:00</td>\n",
       "      <td>24574.0</td>\n",
       "    </tr>\n",
       "    <tr>\n",
       "      <th>3</th>\n",
       "      <td>2002-12-31 04:00:00</td>\n",
       "      <td>24393.0</td>\n",
       "    </tr>\n",
       "    <tr>\n",
       "      <th>4</th>\n",
       "      <td>2002-12-31 05:00:00</td>\n",
       "      <td>24860.0</td>\n",
       "    </tr>\n",
       "    <tr>\n",
       "      <th>...</th>\n",
       "      <td>...</td>\n",
       "      <td>...</td>\n",
       "    </tr>\n",
       "    <tr>\n",
       "      <th>145361</th>\n",
       "      <td>2018-01-01 20:00:00</td>\n",
       "      <td>44284.0</td>\n",
       "    </tr>\n",
       "    <tr>\n",
       "      <th>145362</th>\n",
       "      <td>2018-01-01 21:00:00</td>\n",
       "      <td>43751.0</td>\n",
       "    </tr>\n",
       "    <tr>\n",
       "      <th>145363</th>\n",
       "      <td>2018-01-01 22:00:00</td>\n",
       "      <td>42402.0</td>\n",
       "    </tr>\n",
       "    <tr>\n",
       "      <th>145364</th>\n",
       "      <td>2018-01-01 23:00:00</td>\n",
       "      <td>40164.0</td>\n",
       "    </tr>\n",
       "    <tr>\n",
       "      <th>145365</th>\n",
       "      <td>2018-01-02 00:00:00</td>\n",
       "      <td>38608.0</td>\n",
       "    </tr>\n",
       "  </tbody>\n",
       "</table>\n",
       "<p>145366 rows × 2 columns</p>\n",
       "</div>"
      ],
      "text/plain": [
       "                   Datetime  PJME_MW\n",
       "0       2002-12-31 01:00:00  26498.0\n",
       "1       2002-12-31 02:00:00  25147.0\n",
       "2       2002-12-31 03:00:00  24574.0\n",
       "3       2002-12-31 04:00:00  24393.0\n",
       "4       2002-12-31 05:00:00  24860.0\n",
       "...                     ...      ...\n",
       "145361  2018-01-01 20:00:00  44284.0\n",
       "145362  2018-01-01 21:00:00  43751.0\n",
       "145363  2018-01-01 22:00:00  42402.0\n",
       "145364  2018-01-01 23:00:00  40164.0\n",
       "145365  2018-01-02 00:00:00  38608.0\n",
       "\n",
       "[145366 rows x 2 columns]"
      ]
     },
     "execution_count": 261,
     "metadata": {},
     "output_type": "execute_result"
    }
   ],
   "source": [
    "df = pd.read_csv(\"PJME_hourly.csv\")\n",
    "df"
   ]
  },
  {
   "cell_type": "code",
   "execution_count": 262,
   "id": "e4ebc16d-2b36-4ff0-85b2-cfd383ed4b20",
   "metadata": {},
   "outputs": [
    {
     "data": {
      "text/plain": [
       "Datetime     object\n",
       "PJME_MW     float64\n",
       "dtype: object"
      ]
     },
     "execution_count": 262,
     "metadata": {},
     "output_type": "execute_result"
    }
   ],
   "source": [
    "# Verifying the data type\n",
    "df.dtypes"
   ]
  },
  {
   "cell_type": "markdown",
   "id": "0de9f642-5748-4c5e-a1ef-373b6a9dca21",
   "metadata": {},
   "source": [
    "**Datetime columns is object type, changing it to datetime type and setting the Datetime column as the index**"
   ]
  },
  {
   "cell_type": "code",
   "execution_count": 263,
   "id": "e5f02688-983a-4611-b833-f734beab84f6",
   "metadata": {},
   "outputs": [],
   "source": [
    "#df[\"Datetime\"] = pd.to_datetime(df[\"Datetime\"])\n",
    "#df.dtypes"
   ]
  },
  {
   "cell_type": "code",
   "execution_count": 264,
   "id": "17fdf2fa-6cac-484e-9841-7e7e9cb7cebf",
   "metadata": {},
   "outputs": [
    {
     "data": {
      "text/html": [
       "<div>\n",
       "<style scoped>\n",
       "    .dataframe tbody tr th:only-of-type {\n",
       "        vertical-align: middle;\n",
       "    }\n",
       "\n",
       "    .dataframe tbody tr th {\n",
       "        vertical-align: top;\n",
       "    }\n",
       "\n",
       "    .dataframe thead th {\n",
       "        text-align: right;\n",
       "    }\n",
       "</style>\n",
       "<table border=\"1\" class=\"dataframe\">\n",
       "  <thead>\n",
       "    <tr style=\"text-align: right;\">\n",
       "      <th></th>\n",
       "      <th>PJME_MW</th>\n",
       "    </tr>\n",
       "    <tr>\n",
       "      <th>Datetime</th>\n",
       "      <th></th>\n",
       "    </tr>\n",
       "  </thead>\n",
       "  <tbody>\n",
       "    <tr>\n",
       "      <th>2002-12-31 01:00:00</th>\n",
       "      <td>26498.0</td>\n",
       "    </tr>\n",
       "    <tr>\n",
       "      <th>2002-12-31 02:00:00</th>\n",
       "      <td>25147.0</td>\n",
       "    </tr>\n",
       "    <tr>\n",
       "      <th>2002-12-31 03:00:00</th>\n",
       "      <td>24574.0</td>\n",
       "    </tr>\n",
       "    <tr>\n",
       "      <th>2002-12-31 04:00:00</th>\n",
       "      <td>24393.0</td>\n",
       "    </tr>\n",
       "    <tr>\n",
       "      <th>2002-12-31 05:00:00</th>\n",
       "      <td>24860.0</td>\n",
       "    </tr>\n",
       "  </tbody>\n",
       "</table>\n",
       "</div>"
      ],
      "text/plain": [
       "                     PJME_MW\n",
       "Datetime                    \n",
       "2002-12-31 01:00:00  26498.0\n",
       "2002-12-31 02:00:00  25147.0\n",
       "2002-12-31 03:00:00  24574.0\n",
       "2002-12-31 04:00:00  24393.0\n",
       "2002-12-31 05:00:00  24860.0"
      ]
     },
     "execution_count": 264,
     "metadata": {},
     "output_type": "execute_result"
    }
   ],
   "source": [
    "df = df.set_index(\"Datetime\")\n",
    "df.index = pd.to_datetime(df.index)\n",
    "df.head()"
   ]
  },
  {
   "cell_type": "markdown",
   "id": "16ef442d-98be-4bc2-8254-2fef728f9d72",
   "metadata": {},
   "source": [
    "## Verifying if the dataset is properly ordered by dates in ascending order"
   ]
  },
  {
   "cell_type": "code",
   "execution_count": 265,
   "id": "5a408b9a-96e7-4fd0-8b17-77c88b5e1f9d",
   "metadata": {},
   "outputs": [
    {
     "name": "stdout",
     "output_type": "stream",
     "text": [
      "The earliest date is: 2002-01-01 01:00:00\n"
     ]
    }
   ],
   "source": [
    "print(\"The earliest date is:\", df.index.min())"
   ]
  },
  {
   "cell_type": "markdown",
   "id": "3af47e00-a8f1-4bdf-86b0-d3397ed093d3",
   "metadata": {},
   "source": [
    "**Sorting the data in ascending order to ensure proper chronological splitting for training and testing**"
   ]
  },
  {
   "cell_type": "code",
   "execution_count": 266,
   "id": "d584bf9e-543f-4761-bd87-0b98a6c28c96",
   "metadata": {},
   "outputs": [
    {
     "data": {
      "text/html": [
       "<div>\n",
       "<style scoped>\n",
       "    .dataframe tbody tr th:only-of-type {\n",
       "        vertical-align: middle;\n",
       "    }\n",
       "\n",
       "    .dataframe tbody tr th {\n",
       "        vertical-align: top;\n",
       "    }\n",
       "\n",
       "    .dataframe thead th {\n",
       "        text-align: right;\n",
       "    }\n",
       "</style>\n",
       "<table border=\"1\" class=\"dataframe\">\n",
       "  <thead>\n",
       "    <tr style=\"text-align: right;\">\n",
       "      <th></th>\n",
       "      <th>PJME_MW</th>\n",
       "    </tr>\n",
       "    <tr>\n",
       "      <th>Datetime</th>\n",
       "      <th></th>\n",
       "    </tr>\n",
       "  </thead>\n",
       "  <tbody>\n",
       "    <tr>\n",
       "      <th>2002-01-01 01:00:00</th>\n",
       "      <td>30393.0</td>\n",
       "    </tr>\n",
       "    <tr>\n",
       "      <th>2002-01-01 02:00:00</th>\n",
       "      <td>29265.0</td>\n",
       "    </tr>\n",
       "    <tr>\n",
       "      <th>2002-01-01 03:00:00</th>\n",
       "      <td>28357.0</td>\n",
       "    </tr>\n",
       "    <tr>\n",
       "      <th>2002-01-01 04:00:00</th>\n",
       "      <td>27899.0</td>\n",
       "    </tr>\n",
       "    <tr>\n",
       "      <th>2002-01-01 05:00:00</th>\n",
       "      <td>28057.0</td>\n",
       "    </tr>\n",
       "    <tr>\n",
       "      <th>...</th>\n",
       "      <td>...</td>\n",
       "    </tr>\n",
       "    <tr>\n",
       "      <th>2018-08-02 20:00:00</th>\n",
       "      <td>44057.0</td>\n",
       "    </tr>\n",
       "    <tr>\n",
       "      <th>2018-08-02 21:00:00</th>\n",
       "      <td>43256.0</td>\n",
       "    </tr>\n",
       "    <tr>\n",
       "      <th>2018-08-02 22:00:00</th>\n",
       "      <td>41552.0</td>\n",
       "    </tr>\n",
       "    <tr>\n",
       "      <th>2018-08-02 23:00:00</th>\n",
       "      <td>38500.0</td>\n",
       "    </tr>\n",
       "    <tr>\n",
       "      <th>2018-08-03 00:00:00</th>\n",
       "      <td>35486.0</td>\n",
       "    </tr>\n",
       "  </tbody>\n",
       "</table>\n",
       "<p>145366 rows × 1 columns</p>\n",
       "</div>"
      ],
      "text/plain": [
       "                     PJME_MW\n",
       "Datetime                    \n",
       "2002-01-01 01:00:00  30393.0\n",
       "2002-01-01 02:00:00  29265.0\n",
       "2002-01-01 03:00:00  28357.0\n",
       "2002-01-01 04:00:00  27899.0\n",
       "2002-01-01 05:00:00  28057.0\n",
       "...                      ...\n",
       "2018-08-02 20:00:00  44057.0\n",
       "2018-08-02 21:00:00  43256.0\n",
       "2018-08-02 22:00:00  41552.0\n",
       "2018-08-02 23:00:00  38500.0\n",
       "2018-08-03 00:00:00  35486.0\n",
       "\n",
       "[145366 rows x 1 columns]"
      ]
     },
     "execution_count": 266,
     "metadata": {},
     "output_type": "execute_result"
    }
   ],
   "source": [
    "# Ensure the DataFrame is sorted by datetime index\n",
    "df = df.sort_index()\n",
    "df"
   ]
  },
  {
   "cell_type": "markdown",
   "id": "bba83529-250a-4a59-88ad-787d715cb1bc",
   "metadata": {},
   "source": [
    "**Visualizing the data**"
   ]
  },
  {
   "cell_type": "code",
   "execution_count": 270,
   "id": "1df91b18-d908-4070-927d-4852ed21f610",
   "metadata": {},
   "outputs": [
    {
     "data": {
      "image/png": "[encoded data removed]",
      "text/plain": [
       "<Figure size 1500x500 with 1 Axes>"
      ]
     },
     "metadata": {},
     "output_type": "display_data"
    }
   ],
   "source": [
    "df.plot(figsize=(15,5))\n",
    "plt.title(\"Energy Usage in MW\", fontsize=15)\n",
    "plt.grid(True)\n",
    "plt.show()"
   ]
  },
  {
   "cell_type": "markdown",
   "id": "6eb1aefb-2dc9-45e0-8806-29d90467b601",
   "metadata": {},
   "source": [
    "## Feature engineering\n",
    "\n",
    "**Crearing new inputs from raw data**"
   ]
  },
  {
   "cell_type": "code",
   "execution_count": 271,
   "id": "15d0fd77-c5bd-4a05-8180-4dfd182f6507",
   "metadata": {},
   "outputs": [
    {
     "data": {
      "text/html": [
       "<div>\n",
       "<style scoped>\n",
       "    .dataframe tbody tr th:only-of-type {\n",
       "        vertical-align: middle;\n",
       "    }\n",
       "\n",
       "    .dataframe tbody tr th {\n",
       "        vertical-align: top;\n",
       "    }\n",
       "\n",
       "    .dataframe thead th {\n",
       "        text-align: right;\n",
       "    }\n",
       "</style>\n",
       "<table border=\"1\" class=\"dataframe\">\n",
       "  <thead>\n",
       "    <tr style=\"text-align: right;\">\n",
       "      <th></th>\n",
       "      <th>PJME_MW</th>\n",
       "      <th>month</th>\n",
       "      <th>day</th>\n",
       "      <th>hour</th>\n",
       "      <th>day_of_week</th>\n",
       "    </tr>\n",
       "    <tr>\n",
       "      <th>Datetime</th>\n",
       "      <th></th>\n",
       "      <th></th>\n",
       "      <th></th>\n",
       "      <th></th>\n",
       "      <th></th>\n",
       "    </tr>\n",
       "  </thead>\n",
       "  <tbody>\n",
       "    <tr>\n",
       "      <th>2002-01-01 01:00:00</th>\n",
       "      <td>30393.0</td>\n",
       "      <td>1</td>\n",
       "      <td>1</td>\n",
       "      <td>1</td>\n",
       "      <td>1</td>\n",
       "    </tr>\n",
       "    <tr>\n",
       "      <th>2002-01-01 02:00:00</th>\n",
       "      <td>29265.0</td>\n",
       "      <td>1</td>\n",
       "      <td>1</td>\n",
       "      <td>2</td>\n",
       "      <td>1</td>\n",
       "    </tr>\n",
       "    <tr>\n",
       "      <th>2002-01-01 03:00:00</th>\n",
       "      <td>28357.0</td>\n",
       "      <td>1</td>\n",
       "      <td>1</td>\n",
       "      <td>3</td>\n",
       "      <td>1</td>\n",
       "    </tr>\n",
       "    <tr>\n",
       "      <th>2002-01-01 04:00:00</th>\n",
       "      <td>27899.0</td>\n",
       "      <td>1</td>\n",
       "      <td>1</td>\n",
       "      <td>4</td>\n",
       "      <td>1</td>\n",
       "    </tr>\n",
       "    <tr>\n",
       "      <th>2002-01-01 05:00:00</th>\n",
       "      <td>28057.0</td>\n",
       "      <td>1</td>\n",
       "      <td>1</td>\n",
       "      <td>5</td>\n",
       "      <td>1</td>\n",
       "    </tr>\n",
       "  </tbody>\n",
       "</table>\n",
       "</div>"
      ],
      "text/plain": [
       "                     PJME_MW  month  day  hour  day_of_week\n",
       "Datetime                                                   \n",
       "2002-01-01 01:00:00  30393.0      1    1     1            1\n",
       "2002-01-01 02:00:00  29265.0      1    1     2            1\n",
       "2002-01-01 03:00:00  28357.0      1    1     3            1\n",
       "2002-01-01 04:00:00  27899.0      1    1     4            1\n",
       "2002-01-01 05:00:00  28057.0      1    1     5            1"
      ]
     },
     "execution_count": 271,
     "metadata": {},
     "output_type": "execute_result"
    }
   ],
   "source": [
    "df[\"month\"] = df.index.month\n",
    "df[\"day\"] = df.index.day\n",
    "df[\"hour\"] = df.index.hour\n",
    "df[\"day_of_week\"] = df.index.dayofweek\n",
    "df.head()"
   ]
  },
  {
   "cell_type": "markdown",
   "id": "fdc536fa-532e-4b5d-ab02-98ab3ebe6b09",
   "metadata": {},
   "source": [
    "## Splitting the dataset into Train and Test sets"
   ]
  },
  {
   "cell_type": "markdown",
   "id": "28549f84-88f4-4f45-b8a1-544fd0655336",
   "metadata": {},
   "source": [
    "**Creating features and labels**"
   ]
  },
  {
   "cell_type": "code",
   "execution_count": 272,
   "id": "9721a40c-18f2-4309-b356-09b6ceeb45b0",
   "metadata": {},
   "outputs": [],
   "source": [
    "X = df.drop(\"PJME_MW\", axis=1)\n",
    "y = df[\"PJME_MW\"]"
   ]
  },
  {
   "cell_type": "code",
   "execution_count": 273,
   "id": "cc3fb93a-fe22-4f6e-8240-14a53bbe2c11",
   "metadata": {},
   "outputs": [
    {
     "data": {
      "text/html": [
       "<div>\n",
       "<style scoped>\n",
       "    .dataframe tbody tr th:only-of-type {\n",
       "        vertical-align: middle;\n",
       "    }\n",
       "\n",
       "    .dataframe tbody tr th {\n",
       "        vertical-align: top;\n",
       "    }\n",
       "\n",
       "    .dataframe thead th {\n",
       "        text-align: right;\n",
       "    }\n",
       "</style>\n",
       "<table border=\"1\" class=\"dataframe\">\n",
       "  <thead>\n",
       "    <tr style=\"text-align: right;\">\n",
       "      <th></th>\n",
       "      <th>month</th>\n",
       "      <th>day</th>\n",
       "      <th>hour</th>\n",
       "      <th>day_of_week</th>\n",
       "    </tr>\n",
       "    <tr>\n",
       "      <th>Datetime</th>\n",
       "      <th></th>\n",
       "      <th></th>\n",
       "      <th></th>\n",
       "      <th></th>\n",
       "    </tr>\n",
       "  </thead>\n",
       "  <tbody>\n",
       "    <tr>\n",
       "      <th>2002-01-01 01:00:00</th>\n",
       "      <td>1</td>\n",
       "      <td>1</td>\n",
       "      <td>1</td>\n",
       "      <td>1</td>\n",
       "    </tr>\n",
       "    <tr>\n",
       "      <th>2002-01-01 02:00:00</th>\n",
       "      <td>1</td>\n",
       "      <td>1</td>\n",
       "      <td>2</td>\n",
       "      <td>1</td>\n",
       "    </tr>\n",
       "    <tr>\n",
       "      <th>2002-01-01 03:00:00</th>\n",
       "      <td>1</td>\n",
       "      <td>1</td>\n",
       "      <td>3</td>\n",
       "      <td>1</td>\n",
       "    </tr>\n",
       "    <tr>\n",
       "      <th>2002-01-01 04:00:00</th>\n",
       "      <td>1</td>\n",
       "      <td>1</td>\n",
       "      <td>4</td>\n",
       "      <td>1</td>\n",
       "    </tr>\n",
       "    <tr>\n",
       "      <th>2002-01-01 05:00:00</th>\n",
       "      <td>1</td>\n",
       "      <td>1</td>\n",
       "      <td>5</td>\n",
       "      <td>1</td>\n",
       "    </tr>\n",
       "  </tbody>\n",
       "</table>\n",
       "</div>"
      ],
      "text/plain": [
       "                     month  day  hour  day_of_week\n",
       "Datetime                                          \n",
       "2002-01-01 01:00:00      1    1     1            1\n",
       "2002-01-01 02:00:00      1    1     2            1\n",
       "2002-01-01 03:00:00      1    1     3            1\n",
       "2002-01-01 04:00:00      1    1     4            1\n",
       "2002-01-01 05:00:00      1    1     5            1"
      ]
     },
     "execution_count": 273,
     "metadata": {},
     "output_type": "execute_result"
    }
   ],
   "source": [
    "# Showing the features\n",
    "X_train.head()"
   ]
  },
  {
   "cell_type": "code",
   "execution_count": 274,
   "id": "3dbda10b-c6d3-4e8a-95f7-cd6f0ae52c84",
   "metadata": {},
   "outputs": [
    {
     "data": {
      "text/html": [
       "<div>\n",
       "<style scoped>\n",
       "    .dataframe tbody tr th:only-of-type {\n",
       "        vertical-align: middle;\n",
       "    }\n",
       "\n",
       "    .dataframe tbody tr th {\n",
       "        vertical-align: top;\n",
       "    }\n",
       "\n",
       "    .dataframe thead th {\n",
       "        text-align: right;\n",
       "    }\n",
       "</style>\n",
       "<table border=\"1\" class=\"dataframe\">\n",
       "  <thead>\n",
       "    <tr style=\"text-align: right;\">\n",
       "      <th></th>\n",
       "      <th>PJME_MW</th>\n",
       "    </tr>\n",
       "    <tr>\n",
       "      <th>Datetime</th>\n",
       "      <th></th>\n",
       "    </tr>\n",
       "  </thead>\n",
       "  <tbody>\n",
       "    <tr>\n",
       "      <th>2002-01-01 01:00:00</th>\n",
       "      <td>30393.0</td>\n",
       "    </tr>\n",
       "    <tr>\n",
       "      <th>2002-01-01 02:00:00</th>\n",
       "      <td>29265.0</td>\n",
       "    </tr>\n",
       "    <tr>\n",
       "      <th>2002-01-01 03:00:00</th>\n",
       "      <td>28357.0</td>\n",
       "    </tr>\n",
       "    <tr>\n",
       "      <th>2002-01-01 04:00:00</th>\n",
       "      <td>27899.0</td>\n",
       "    </tr>\n",
       "    <tr>\n",
       "      <th>2002-01-01 05:00:00</th>\n",
       "      <td>28057.0</td>\n",
       "    </tr>\n",
       "  </tbody>\n",
       "</table>\n",
       "</div>"
      ],
      "text/plain": [
       "                     PJME_MW\n",
       "Datetime                    \n",
       "2002-01-01 01:00:00  30393.0\n",
       "2002-01-01 02:00:00  29265.0\n",
       "2002-01-01 03:00:00  28357.0\n",
       "2002-01-01 04:00:00  27899.0\n",
       "2002-01-01 05:00:00  28057.0"
      ]
     },
     "execution_count": 274,
     "metadata": {},
     "output_type": "execute_result"
    }
   ],
   "source": [
    "# Showring the labels which is the actual consumption of energy\n",
    "pd.DataFrame(y).head()"
   ]
  },
  {
   "cell_type": "markdown",
   "id": "c856e3a6-5d65-4026-90d0-c88cbb0068ec",
   "metadata": {},
   "source": [
    "**Function to split the data into train and test sets**"
   ]
  },
  {
   "cell_type": "code",
   "execution_count": 275,
   "id": "153f78a8-952c-445d-9084-9b10612ef9fe",
   "metadata": {},
   "outputs": [],
   "source": [
    "def split_data(features, labels, percent=80):\n",
    "\n",
    "    # Splitting the data into features, labels, train and test sets\n",
    "    split = int(percent/100 * len(features))\n",
    "    \n",
    "    X = features\n",
    "    y = labels\n",
    "    \n",
    "    X_train = X.iloc[:split]\n",
    "    y_train = y.iloc[:split]\n",
    "    \n",
    "    X_test = X.iloc[split:]\n",
    "    y_test = y.iloc[split:]\n",
    "\n",
    "    return X_train, y_train, X_test, y_test"
   ]
  },
  {
   "cell_type": "code",
   "execution_count": 276,
   "id": "75900e13-894a-4cd5-a481-e3f8c4ff5792",
   "metadata": {},
   "outputs": [],
   "source": [
    "# Splitting the dataset in to 80% for training and 20% for testing\n",
    "X_train, y_train, X_test, y_test = split_data(X, y, 80)"
   ]
  },
  {
   "cell_type": "code",
   "execution_count": 277,
   "id": "ec45d791-f890-44f4-88a7-23bf258017f5",
   "metadata": {},
   "outputs": [
    {
     "name": "stdout",
     "output_type": "stream",
     "text": [
      "Lend of training set: 116292\n",
      "Lend of testing set: 29074\n"
     ]
    }
   ],
   "source": [
    "print(\"Lend of training set:\", len(X_train))\n",
    "print(\"Lend of testing set:\", len(X_test))"
   ]
  },
  {
   "cell_type": "code",
   "execution_count": 278,
   "id": "00bdbdf6-404f-4054-a6ce-83a162ae51b0",
   "metadata": {},
   "outputs": [
    {
     "data": {
      "text/html": [
       "<div>\n",
       "<style scoped>\n",
       "    .dataframe tbody tr th:only-of-type {\n",
       "        vertical-align: middle;\n",
       "    }\n",
       "\n",
       "    .dataframe tbody tr th {\n",
       "        vertical-align: top;\n",
       "    }\n",
       "\n",
       "    .dataframe thead th {\n",
       "        text-align: right;\n",
       "    }\n",
       "</style>\n",
       "<table border=\"1\" class=\"dataframe\">\n",
       "  <thead>\n",
       "    <tr style=\"text-align: right;\">\n",
       "      <th></th>\n",
       "      <th>PJME_MW</th>\n",
       "    </tr>\n",
       "    <tr>\n",
       "      <th>Datetime</th>\n",
       "      <th></th>\n",
       "    </tr>\n",
       "  </thead>\n",
       "  <tbody>\n",
       "    <tr>\n",
       "      <th>2002-01-01 01:00:00</th>\n",
       "      <td>30393.0</td>\n",
       "    </tr>\n",
       "    <tr>\n",
       "      <th>2002-01-01 02:00:00</th>\n",
       "      <td>29265.0</td>\n",
       "    </tr>\n",
       "    <tr>\n",
       "      <th>2002-01-01 03:00:00</th>\n",
       "      <td>28357.0</td>\n",
       "    </tr>\n",
       "    <tr>\n",
       "      <th>2002-01-01 04:00:00</th>\n",
       "      <td>27899.0</td>\n",
       "    </tr>\n",
       "    <tr>\n",
       "      <th>2002-01-01 05:00:00</th>\n",
       "      <td>28057.0</td>\n",
       "    </tr>\n",
       "    <tr>\n",
       "      <th>...</th>\n",
       "      <td>...</td>\n",
       "    </tr>\n",
       "    <tr>\n",
       "      <th>2015-04-09 10:00:00</th>\n",
       "      <td>33082.0</td>\n",
       "    </tr>\n",
       "    <tr>\n",
       "      <th>2015-04-09 11:00:00</th>\n",
       "      <td>33285.0</td>\n",
       "    </tr>\n",
       "    <tr>\n",
       "      <th>2015-04-09 12:00:00</th>\n",
       "      <td>33148.0</td>\n",
       "    </tr>\n",
       "    <tr>\n",
       "      <th>2015-04-09 13:00:00</th>\n",
       "      <td>32809.0</td>\n",
       "    </tr>\n",
       "    <tr>\n",
       "      <th>2015-04-09 14:00:00</th>\n",
       "      <td>32613.0</td>\n",
       "    </tr>\n",
       "  </tbody>\n",
       "</table>\n",
       "<p>116292 rows × 1 columns</p>\n",
       "</div>"
      ],
      "text/plain": [
       "                     PJME_MW\n",
       "Datetime                    \n",
       "2002-01-01 01:00:00  30393.0\n",
       "2002-01-01 02:00:00  29265.0\n",
       "2002-01-01 03:00:00  28357.0\n",
       "2002-01-01 04:00:00  27899.0\n",
       "2002-01-01 05:00:00  28057.0\n",
       "...                      ...\n",
       "2015-04-09 10:00:00  33082.0\n",
       "2015-04-09 11:00:00  33285.0\n",
       "2015-04-09 12:00:00  33148.0\n",
       "2015-04-09 13:00:00  32809.0\n",
       "2015-04-09 14:00:00  32613.0\n",
       "\n",
       "[116292 rows x 1 columns]"
      ]
     },
     "execution_count": 278,
     "metadata": {},
     "output_type": "execute_result"
    }
   ],
   "source": [
    "pd.DataFrame(y_train)"
   ]
  },
  {
   "cell_type": "code",
   "execution_count": 279,
   "id": "a9ce5cd8-e5be-41f5-a539-6ddcbcf98d62",
   "metadata": {},
   "outputs": [
    {
     "data": {
      "text/html": [
       "<div>\n",
       "<style scoped>\n",
       "    .dataframe tbody tr th:only-of-type {\n",
       "        vertical-align: middle;\n",
       "    }\n",
       "\n",
       "    .dataframe tbody tr th {\n",
       "        vertical-align: top;\n",
       "    }\n",
       "\n",
       "    .dataframe thead th {\n",
       "        text-align: right;\n",
       "    }\n",
       "</style>\n",
       "<table border=\"1\" class=\"dataframe\">\n",
       "  <thead>\n",
       "    <tr style=\"text-align: right;\">\n",
       "      <th></th>\n",
       "      <th>PJME_MW</th>\n",
       "    </tr>\n",
       "    <tr>\n",
       "      <th>Datetime</th>\n",
       "      <th></th>\n",
       "    </tr>\n",
       "  </thead>\n",
       "  <tbody>\n",
       "    <tr>\n",
       "      <th>2015-04-09 15:00:00</th>\n",
       "      <td>32204.0</td>\n",
       "    </tr>\n",
       "    <tr>\n",
       "      <th>2015-04-09 16:00:00</th>\n",
       "      <td>32049.0</td>\n",
       "    </tr>\n",
       "    <tr>\n",
       "      <th>2015-04-09 17:00:00</th>\n",
       "      <td>32209.0</td>\n",
       "    </tr>\n",
       "    <tr>\n",
       "      <th>2015-04-09 18:00:00</th>\n",
       "      <td>32707.0</td>\n",
       "    </tr>\n",
       "    <tr>\n",
       "      <th>2015-04-09 19:00:00</th>\n",
       "      <td>33012.0</td>\n",
       "    </tr>\n",
       "  </tbody>\n",
       "</table>\n",
       "</div>"
      ],
      "text/plain": [
       "                     PJME_MW\n",
       "Datetime                    \n",
       "2015-04-09 15:00:00  32204.0\n",
       "2015-04-09 16:00:00  32049.0\n",
       "2015-04-09 17:00:00  32209.0\n",
       "2015-04-09 18:00:00  32707.0\n",
       "2015-04-09 19:00:00  33012.0"
      ]
     },
     "execution_count": 279,
     "metadata": {},
     "output_type": "execute_result"
    }
   ],
   "source": [
    "pd.DataFrame(y_test).head()"
   ]
  },
  {
   "cell_type": "markdown",
   "id": "41e264c5-3b88-4639-8628-fa8d610a8e69",
   "metadata": {},
   "source": [
    "## Plotting energy consumption for training and test sets"
   ]
  },
  {
   "cell_type": "code",
   "execution_count": 280,
   "id": "173c639e-94f2-43e3-87ad-05e35778023b",
   "metadata": {},
   "outputs": [
    {
     "data": {
      "image/png": "[encoded data removed]",
      "text/plain": [
       "<Figure size 1500x500 with 1 Axes>"
      ]
     },
     "metadata": {},
     "output_type": "display_data"
    }
   ],
   "source": [
    "# Plot the training and test sets\n",
    "date_of_split = \"2015-04-09 14:00:00\"\n",
    "\n",
    "fig, ax = plt.subplots(figsize=(15, 5))\n",
    "y_train.plot(ax=ax, label=\"Training Set\")\n",
    "y_test.plot(ax=ax, label=\"Test Set\", color=\"orange\")\n",
    "ax.axvline(date_of_split, ls=\"--\", color=\"gray\", label=\"Split Date\")\n",
    "ax.legend()\n",
    "plt.show()"
   ]
  },
  {
   "cell_type": "code",
   "execution_count": null,
   "id": "546e2e06-664c-4a7d-af28-668f8928648d",
   "metadata": {},
   "outputs": [],
   "source": []
  }
 ],
 "metadata": {
  "kernelspec": {
   "display_name": "Python 3 (ipykernel)",
   "language": "python",
   "name": "python3"
  },
  "language_info": {
   "codemirror_mode": {
    "name": "ipython",
    "version": 3
   },
   "file_extension": ".py",
   "mimetype": "text/x-python",
   "name": "python",
   "nbconvert_exporter": "python",
   "pygments_lexer": "ipython3",
   "version": "3.9.20"
  }
 },
 "nbformat": 4,
 "nbformat_minor": 5
}
